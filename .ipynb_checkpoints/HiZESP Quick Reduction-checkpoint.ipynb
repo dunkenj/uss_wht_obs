{
 "cells": [
  {
   "cell_type": "code",
   "execution_count": null,
   "metadata": {
    "collapsed": true
   },
   "outputs": [],
   "source": [
    "sigma_clip"
   ]
  },
  {
   "cell_type": "markdown",
   "metadata": {},
   "source": [
    "# WHT ISIS Long-slit Spectroscopy Reduction\n",
    "\n",
    "The following reduction code works directly from the full set of images in a given nights observations. As observations are added during the evening, the ImageFileCollection object defined at the beginning needs to be refreshed.\n",
    "\n",
    "Files can be rsync'd from the whtobs computer using the following command:\n",
    "\n",
    "`$ rsync -av whtobs@taurus.ing.iac.es:/obsdata/whta/20170624/ 20170624/`\n",
    "\n",
    "where 20170624/ is set to the relevant observation night.\n",
    "\n",
    "The starting point for this code was the very helpful scripts of [Steve Crawford](https://github.com/crawfordsm/wht_reduction_scripts). However, various changes have been made and key steps (e.g. wavelength calibration/flat processing) differ.\n",
    "\n",
    "\n",
    "## Still to-do\n",
    "- Add gain and readout noise values data frames\n",
    "- Add uncertainty arrays for bias/flat frames etc.\n",
    "- Complete wavelength calibration scripts\n",
    "    - Write function to find wavelength solution for an input CuNe+CuAr arc frame\n",
    "    - Apply wavelength solution to reduced target frames\n",
    "- Propagate uncertainties to create variance map\n",
    "\n",
    "- Flux calibration"
   ]
  },
  {
   "cell_type": "code",
   "execution_count": 2,
   "metadata": {
    "collapsed": false
   },
   "outputs": [],
   "source": [
    "import numpy as np\n",
    "from multiprocessing import Pool\n",
    "from functools import partial\n",
    "\n",
    "import astropy.units as u\n",
    "from astropy.io import fits\n",
    "from astropy.modeling import models, fitting\n",
    "from astropy.stats import sigma_clip, mad_std\n",
    "from scipy.ndimage import binary_dilation\n",
    "from astropy.utils.console import ProgressBar\n",
    "import ccdproc\n",
    "from ccdproc import ImageFileCollection, CCDData\n",
    "\n",
    "def fit_chebyshev(row, degree=5, grow=3):\n",
    "    \"\"\"\n",
    "    Fit Chebyshev1D model to a CCD row, including masking of outlier pixels\n",
    "    \n",
    "    Params\n",
    "    ------\n",
    "    row : array,\n",
    "        Input CCD row to fit polynomial to.\n",
    "    degree : int,\n",
    "        Chebyshev Polynomial Order\n",
    "    grow : int,\n",
    "        Number of iterations to dilate around masked pixels\n",
    "    \"\"\"\n",
    "\n",
    "    fitter = fitting.LinearLSQFitter()\n",
    "    input_mask = row.mask\n",
    "    clipped = sigma_clip(row, stdfunc=mad_std)\n",
    "    clipped_pixels = np.array(clipped.mask+row.mask).astype('float')\n",
    "    clipped_pixels = binary_dilation(clipped_pixels, iterations=grow)\n",
    "\n",
    "    row[clipped_pixels==1] = np.median(row)\n",
    "    masked_row = np.ma.array(data=row, \n",
    "                             mask=(clipped_pixels == 1), \n",
    "                             fill_value=np.median(row))\n",
    "    x = np.arange(len(row))\n",
    "    model = models.Chebyshev1D(degree=degree)\n",
    "    fitted_model = fitter(model, x, row)\n",
    "    return fitted_model(np.arange(len(row)))\n",
    "\n",
    "def fit_background_old(data, degree=5, grow=3, verbose=True):\n",
    "    \"\"\"\n",
    "    Background estimation for longslit CCD image\n",
    "    \n",
    "    Params\n",
    "    ------\n",
    "    ccd : array,\n",
    "        Input CCD data for background estimation.\n",
    "    degree : int,\n",
    "        Chebyshev Polynomial Order\n",
    "    grow : int,\n",
    "        Number of iterations to dilate around masked pixels\n",
    "    verbose : bool, default=True\n",
    "        If true, print progress bar\n",
    "        \n",
    "    \"\"\"\n",
    "    fitted_sky = np.zeros_like(data).astype('float')\n",
    "    if verbose:\n",
    "        bar = ProgressBar(data.shape[0], ipython_widget=True)\n",
    "    \n",
    "    for irx, row in enumerate(data):\n",
    "        fitted_sky[irx] = fit_chebyshev(row, degree, grow)\n",
    "        if verbose:\n",
    "            bar.update()\n",
    "    return fitted_sky\n",
    "\n",
    "def fit_background(data, degree=5, grow=3, verbose=True, njobs=4):\n",
    "    \"\"\"\n",
    "    Parallelised background estimation for longslit CCD image\n",
    "    \n",
    "    Params\n",
    "    ------\n",
    "    data : array,\n",
    "        Input CCD data for background estimation.\n",
    "    degree : int,\n",
    "        Chebyshev Polynomial Order\n",
    "    grow : int,\n",
    "        Number of iterations to dilate around masked pixels\n",
    "    njobs : int\n",
    "        Number of processes to initiate for fitting\n",
    "    \"\"\"\n",
    "    kwargs={'degree': degree, 'grow': grow}    \n",
    "    p = Pool(njobs)\n",
    "    fitted_sky = p.map(partial(fit_chebyshev, **kwargs), data)\n",
    "    return np.array(fitted_sky).astype('float')"
   ]
  },
  {
   "cell_type": "code",
   "execution_count": 3,
   "metadata": {
    "collapsed": false
   },
   "outputs": [],
   "source": [
    "ic1 = ImageFileCollection('../20170624/')"
   ]
  },
  {
   "cell_type": "markdown",
   "metadata": {},
   "source": [
    "## Create the bias frames\n",
    "\n"
   ]
  },
  {
   "cell_type": "code",
   "execution_count": null,
   "metadata": {
    "collapsed": false
   },
   "outputs": [
    {
     "name": "stderr",
     "output_type": "stream",
     "text": [
      "INFO:astropy:first HDU with data is extension 1.\n",
      "WARNING: FITSFixedWarning: RADECSYS= 'FK4 ' / mean place old (before the 1976 IAU) system \n",
      "the RADECSYS keyword is deprecated, use RADESYSa. [astropy.wcs.wcs]\n",
      "WARNING:astropy:FITSFixedWarning: RADECSYS= 'FK4 ' / mean place old (before the 1976 IAU) system \n",
      "the RADECSYS keyword is deprecated, use RADESYSa.\n",
      "WARNING: FITSFixedWarning: PROJP1 = 1.00000000 / Projection coefficient for primary WCS \n",
      "the PROJPn keyword is deprecated, use PVi_ma. [astropy.wcs.wcs]\n",
      "WARNING:astropy:FITSFixedWarning: PROJP1 = 1.00000000 / Projection coefficient for primary WCS \n",
      "the PROJPn keyword is deprecated, use PVi_ma.\n",
      "WARNING: FITSFixedWarning: PROJP3 = 0.00000000 / Projection coefficient for primary WCS \n",
      "the PROJPn keyword is deprecated, use PVi_ma. [astropy.wcs.wcs]\n",
      "WARNING:astropy:FITSFixedWarning: PROJP3 = 0.00000000 / Projection coefficient for primary WCS \n",
      "the PROJPn keyword is deprecated, use PVi_ma.\n",
      "WARNING: FITSFixedWarning: The WCS transformation has more axes (2) than the image it is associated with (0) [astropy.wcs.wcs]\n",
      "WARNING:astropy:FITSFixedWarning: The WCS transformation has more axes (2) than the image it is associated with (0)\n",
      "WARNING: FITSFixedWarning: 'datfix' made the change 'Invalid parameter value: inconsistent date '2017-06-24T00:00:00.0''. [astropy.wcs.wcs]\n",
      "WARNING:astropy:FITSFixedWarning: 'datfix' made the change 'Invalid parameter value: inconsistent date '2017-06-24T00:00:00.0''.\n",
      "INFO:astropy:first HDU with data is extension 1.\n"
     ]
    },
    {
     "name": "stdout",
     "output_type": "stream",
     "text": [
      "../20170624/r2544829.fit\n",
      "INFO: first HDU with data is extension 1. [ccdproc.ccddata]\n",
      "../20170624/r2544831.fit\n",
      "INFO: first HDU with data is extension 1. [ccdproc.ccddata]\n"
     ]
    },
    {
     "name": "stderr",
     "output_type": "stream",
     "text": [
      "INFO:astropy:first HDU with data is extension 1.\n",
      "INFO:astropy:first HDU with data is extension 1.\n"
     ]
    },
    {
     "name": "stdout",
     "output_type": "stream",
     "text": [
      "../20170624/r2544833.fit\n",
      "INFO: first HDU with data is extension 1. [ccdproc.ccddata]\n",
      "../20170624/r2544835.fit\n",
      "INFO: first HDU with data is extension 1. [ccdproc.ccddata]\n"
     ]
    },
    {
     "name": "stderr",
     "output_type": "stream",
     "text": [
      "INFO:astropy:first HDU with data is extension 1.\n",
      "INFO:astropy:first HDU with data is extension 1.\n"
     ]
    },
    {
     "name": "stdout",
     "output_type": "stream",
     "text": [
      "../20170624/r2544837.fit\n",
      "INFO: first HDU with data is extension 1. [ccdproc.ccddata]\n",
      "../20170624/r2544839.fit\n",
      "INFO: first HDU with data is extension 1. [ccdproc.ccddata]\n"
     ]
    },
    {
     "name": "stderr",
     "output_type": "stream",
     "text": [
      "INFO:astropy:first HDU with data is extension 1.\n",
      "INFO:astropy:first HDU with data is extension 1.\n"
     ]
    },
    {
     "name": "stdout",
     "output_type": "stream",
     "text": [
      "../20170624/r2544841.fit\n",
      "INFO: first HDU with data is extension 1. [ccdproc.ccddata]\n",
      "../20170624/r2544843.fit\n",
      "INFO: first HDU with data is extension 1. [ccdproc.ccddata]\n"
     ]
    },
    {
     "name": "stderr",
     "output_type": "stream",
     "text": [
      "INFO:astropy:first HDU with data is extension 1.\n",
      "INFO:astropy:first HDU with data is extension 1.\n"
     ]
    },
    {
     "name": "stdout",
     "output_type": "stream",
     "text": [
      "../20170624/r2544845.fit\n",
      "INFO: first HDU with data is extension 1. [ccdproc.ccddata]\n",
      "../20170624/r2544847.fit\n",
      "INFO: first HDU with data is extension 1. [ccdproc.ccddata]\n"
     ]
    },
    {
     "name": "stderr",
     "output_type": "stream",
     "text": [
      "INFO:astropy:first HDU with data is extension 1.\n"
     ]
    },
    {
     "name": "stdout",
     "output_type": "stream",
     "text": [
      "../20170624/r2544849.fit\n",
      "INFO: first HDU with data is extension 1. [ccdproc.ccddata]\n"
     ]
    },
    {
     "name": "stderr",
     "output_type": "stream",
     "text": [
      "INFO:astropy:first HDU with data is extension 1.\n",
      "INFO:astropy:first HDU with data is extension 1.\n"
     ]
    },
    {
     "name": "stdout",
     "output_type": "stream",
     "text": [
      "../20170624/r2544828.fit\n",
      "INFO: first HDU with data is extension 1. [ccdproc.ccddata]\n",
      "../20170624/r2544830.fit\n",
      "INFO: first HDU with data is extension 1. [ccdproc.ccddata]\n"
     ]
    },
    {
     "name": "stderr",
     "output_type": "stream",
     "text": [
      "INFO:astropy:first HDU with data is extension 1.\n",
      "INFO:astropy:first HDU with data is extension 1.\n"
     ]
    },
    {
     "name": "stdout",
     "output_type": "stream",
     "text": [
      "../20170624/r2544832.fit\n",
      "INFO: first HDU with data is extension 1. [ccdproc.ccddata]\n",
      "../20170624/r2544834.fit\n",
      "INFO: first HDU with data is extension 1. [ccdproc.ccddata]\n"
     ]
    },
    {
     "name": "stderr",
     "output_type": "stream",
     "text": [
      "INFO:astropy:first HDU with data is extension 1.\n",
      "INFO:astropy:first HDU with data is extension 1.\n"
     ]
    },
    {
     "name": "stdout",
     "output_type": "stream",
     "text": [
      "../20170624/r2544836.fit\n",
      "INFO: first HDU with data is extension 1. [ccdproc.ccddata]\n",
      "../20170624/r2544838.fit\n",
      "INFO: first HDU with data is extension 1. [ccdproc.ccddata]\n"
     ]
    },
    {
     "name": "stderr",
     "output_type": "stream",
     "text": [
      "INFO:astropy:first HDU with data is extension 1.\n",
      "INFO:astropy:first HDU with data is extension 1.\n"
     ]
    },
    {
     "name": "stdout",
     "output_type": "stream",
     "text": [
      "../20170624/r2544840.fit\n",
      "INFO: first HDU with data is extension 1. [ccdproc.ccddata]\n",
      "../20170624/r2544842.fit\n",
      "INFO: first HDU with data is extension 1. [ccdproc.ccddata]\n"
     ]
    },
    {
     "name": "stderr",
     "output_type": "stream",
     "text": [
      "INFO:astropy:first HDU with data is extension 1.\n",
      "INFO:astropy:first HDU with data is extension 1.\n"
     ]
    },
    {
     "name": "stdout",
     "output_type": "stream",
     "text": [
      "../20170624/r2544844.fit\n",
      "INFO: first HDU with data is extension 1. [ccdproc.ccddata]\n",
      "../20170624/r2544846.fit\n",
      "INFO: first HDU with data is extension 1. [ccdproc.ccddata]\n"
     ]
    },
    {
     "name": "stderr",
     "output_type": "stream",
     "text": [
      "INFO:astropy:first HDU with data is extension 1.\n"
     ]
    },
    {
     "name": "stdout",
     "output_type": "stream",
     "text": [
      "../20170624/r2544848.fit\n",
      "INFO: first HDU with data is extension 1. [ccdproc.ccddata]\n"
     ]
    }
   ],
   "source": [
    "blue_bias_list = []\n",
    "for filename in ic1.files_filtered(obstype='Bias', isiarm='Blue arm', object='blue bias'):\n",
    "    print ic1.location + filename\n",
    "    ccd = CCDData.read(ic1.location + filename, unit = u.adu)\n",
    "    #ccd = ccdproc.create_deviation(ccd, gain=ccd.header['GAIN']*u.electron/u.adu, \n",
    "    #                               readnoise=ccd.header['READNOIS']*u.electron)\n",
    "    #this has to be fixed as the bias section does not include the whole section that will be trimmed\n",
    "    ccd = ccdproc.subtract_overscan(ccd, median=True,  overscan_axis=0, fits_section='[1:966,4105:4190]')\n",
    "    ccd = ccdproc.trim_image(ccd, fits_section=ccd.header['TRIMSEC'])\n",
    "    blue_bias_list.append(ccd)\n",
    "    \n",
    "master_bias_blue = ccdproc.combine(blue_bias_list, method='median')\n",
    "master_bias_blue.write('master_bias_blue.fits', clobber=True)\n",
    "\n",
    "red_bias_list = []\n",
    "for filename in ic1.files_filtered(obstype='Bias', isiarm='Red arm', object='red bias'):\n",
    "    print ic1.location + filename\n",
    "    ccd = CCDData.read(ic1.location + filename, unit = u.adu)\n",
    "    #ccd = ccdproc.create_deviation(ccd, gain=ccd.header['GAIN']*u.electron/u.adu, \n",
    "    #                               readnoise=ccd.header['READNOIS']*u.electron)\n",
    "    #this has to be fixed as the bias section does not include the whole section that will be trimmed\n",
    "    ccd = ccdproc.subtract_overscan(ccd, median=True,  overscan_axis=0, fits_section='[1:966,4105:4190]')\n",
    "    ccd = ccdproc.trim_image(ccd, fits_section=ccd.header['TRIMSEC'] )\n",
    "    red_bias_list.append(ccd)\n",
    "    \n",
    "master_bias_red = ccdproc.combine(red_bias_list, method='median')\n",
    "master_bias_red.write('master_bias_red.fits', clobber=True)"
   ]
  },
  {
   "cell_type": "markdown",
   "metadata": {},
   "source": [
    "## Create the flat fields"
   ]
  },
  {
   "cell_type": "code",
   "execution_count": null,
   "metadata": {
    "collapsed": false
   },
   "outputs": [],
   "source": [
    "from astropy.convolution import convolve, Gaussian2DKernel\n",
    "kernel = Gaussian2DKernel(25)\n",
    "\n",
    "red_flat_list = []\n",
    "for filename in ic1.files_filtered(obstype='Flat', isiarm='Red arm', object='well good flat r'):\n",
    "    ccd = CCDData.read(ic1.location + filename, unit = u.adu)\n",
    "    #ccd = ccdproc.create_deviation(ccd, gain=ccd.header['GAIN']*u.electron/u.adu, \n",
    "    #                               readnoise=ccd.header['READNOIS']*u.electron)\n",
    "    #this has to be fixed as the bias section does not include the whole section that will be trimmed\n",
    "    ccd = ccdproc.subtract_overscan(ccd, median=True,  overscan_axis=0, fits_section='[1:966,4105:4190]')\n",
    "    ccd = ccdproc.trim_image(ccd, fits_section=ccd.header['TRIMSEC'] )\n",
    "    ccd = ccdproc.subtract_bias(ccd, master_bias_red)    \n",
    "    red_flat_list.append(ccd)\n",
    "    \n",
    "master_flat_red = ccdproc.combine(red_flat_list, method='median')\n",
    "convolved_flat_red = convolve(master_flat_red.data, kernel, boundary='extend')\n",
    "\n",
    "master_flat_red.write('master_flat_red.fits', clobber=True)\n",
    "\n",
    "master_flat_red.data /= convolved_flat_red\n",
    "master_flat_red.write('master_flat_norm_red.fits', clobber=True)"
   ]
  },
  {
   "cell_type": "code",
   "execution_count": null,
   "metadata": {
    "collapsed": false
   },
   "outputs": [],
   "source": [
    "blue_flat_list = []\n",
    "for filename in ic1.files_filtered(obstype='Flat', isiarm='Blue arm', object='well good flat blu'):\n",
    "    ccd = CCDData.read(ic1.location + filename, unit = u.adu)\n",
    "    #ccd = ccdproc.create_deviation(ccd, gain=ccd.header['GAIN']*u.electron/u.adu, \n",
    "    #                               readnoise=ccd.header['READNOIS']*u.electron)\n",
    "    #this has to be fixed as the bias section does not include the whole section that will be trimmed\n",
    "    ccd = ccdproc.subtract_overscan(ccd, median=True,  overscan_axis=0, fits_section='[1:966,4105:4190]')\n",
    "    ccd = ccdproc.trim_image(ccd, fits_section=ccd.header['TRIMSEC'] )\n",
    "    ccd = ccdproc.subtract_bias(ccd, master_bias_blue)\n",
    "    blue_flat_list.append(ccd)\n",
    "    \n",
    "master_flat_blue = ccdproc.combine(blue_flat_list, method='median')\n",
    "convolved_flat_blue = convolve(master_flat_blue.data, kernel, boundary='extend')\n",
    "\n",
    "master_flat_blue.write('master_flat_blue.fits', clobber=True)\n",
    "\n",
    "master_flat_blue.data /= convolved_flat_blue\n",
    "master_flat_blue.write('master_flat_norm_blue.fits', clobber=True)"
   ]
  },
  {
   "cell_type": "markdown",
   "metadata": {},
   "source": [
    "## Reduce the object frames"
   ]
  },
  {
   "cell_type": "code",
   "execution_count": null,
   "metadata": {
    "collapsed": false
   },
   "outputs": [],
   "source": [
    "ic1 = ImageFileCollection('../20170624/')\n",
    "\n",
    "objects = ['USS422', 'USS337', 'USS7', 'SP1446+259']\n",
    "\n",
    "for objname in objects:\n",
    "    print(objname)\n",
    "    \"\"\"\n",
    "    Blue Arm\n",
    "    \"\"\"\n",
    "    blue_target_list = []\n",
    "    for ifx, filename in enumerate(ic1.files_filtered(obstype='TARGET', isiarm='Blue arm', object=objname)):\n",
    "        print(ifx+1)\n",
    "        hdu = fits.open(ic1.location + filename)\n",
    "        ccd = CCDData(hdu[1].data, header=hdu[0].header+hdu[1].header, unit = u.adu)\n",
    "        #this has to be fixed as the bias section does not include the whole section that will be trimmed\n",
    "        ccd = ccdproc.subtract_overscan(ccd, median=True,  overscan_axis=0, fits_section='[1:966,4105:4190]')\n",
    "        ccd = ccdproc.trim_image(ccd, fits_section=ccd.header['TRIMSEC'] )\n",
    "        ccd = ccdproc.subtract_bias(ccd, master_bias_blue)\n",
    "        ccd = ccdproc.flat_correct(ccd, master_flat_blue)\n",
    "        ccd = ccdproc.cosmicray_lacosmic(ccd, sigclip=4.5, gain=ccd.header['GAIN'], readnoise=ccd.header['READNOIS'])\n",
    "        \n",
    "        # Do sky subtraction\n",
    "        ccd.mask[:,785:800] = True\n",
    "        sky = fit_background(np.ma.array(ccd.data, mask=ccd.mask))\n",
    "        ccd.data -= sky\n",
    "        \n",
    "        # Rotate Frame\n",
    "        ccd.data = ccd.data.T\n",
    "        ccd.mask = ccd.mask.T\n",
    "        blue_target_list.append(ccd)\n",
    "        #ccd.write('obj_'+filename, clobber=True)\n",
    "\n",
    "    blue_target = ccdproc.combine(blue_target_list, method='average')\n",
    "    blue_target.write('{0}_blue.fits'.format(blue_target_list[0].header['object']), clobber=True)\n",
    "\n",
    "    \"\"\"\n",
    "    Red Arm\n",
    "    \"\"\"\n",
    "    red_target_list = []\n",
    "    for ifx, filename in enumerateic1.files_filtered(obstype='TARGET', isiarm='Red arm', object=objname)):\n",
    "        print(ifx+1)\n",
    "        hdu = fits.open(ic1.location + filename)\n",
    "        ccd = CCDData(hdu[1].data, header=hdu[0].header+hdu[1].header, unit = u.adu)\n",
    "        #this has to be fixed as the bias section does not include the whole section that will be trimmed\n",
    "        ccd = ccdproc.subtract_overscan(ccd, median=True,  overscan_axis=0, fits_section='[1:966,4105:4190]')\n",
    "        ccd = ccdproc.trim_image(ccd, fits_section=ccd.header['TRIMSEC'] )\n",
    "        ccd = ccdproc.subtract_bias(ccd, master_bias_red)\n",
    "        ccd = ccdproc.flat_correct(ccd, master_flat_red)\n",
    "        ccd = ccdproc.cosmicray_lacosmic(ccd, sigclip=4.5, gain=ccd.header['GAIN'], readnoise=ccd.header['READNOIS'])\n",
    "        \n",
    "        # Do sky subtraction\n",
    "        ccd.mask[:,785:800] = True\n",
    "        sky = fit_background(np.ma.array(ccd.data, mask=ccd.mask))\n",
    "        ccd.data -= sky\n",
    "        \n",
    "        # Rotate Frame\n",
    "        \n",
    "        ccd.data = ccd.data.T\n",
    "        ccd.mask = ccd.mask.T\n",
    "        #ccd.write('obj_'+filename, clobber=True)\n",
    "        red_target_list.append(ccd)\n",
    "\n",
    "    red_target = ccdproc.combine(red_target_list, method='average')\n",
    "    red_target.write('{0}_red.fits'.format(red_target_list[0].header['object']), clobber=True)\n",
    "\n",
    "    red_target.mask[785:800,:] = True\n",
    "    red_sky = fit_background(np.ma.array(red_target.data.T, mask=red_target.mask.T)).T\n",
    "\n",
    "    red_target.data -= red_sky\n",
    "    red_target.write('{0}_red_skysub.fits'.format(red_target_list[0].header['object']), clobber=True)"
   ]
  },
  {
   "cell_type": "markdown",
   "metadata": {},
   "source": [
    "## Reduce arc frames"
   ]
  },
  {
   "cell_type": "code",
   "execution_count": null,
   "metadata": {
    "collapsed": false
   },
   "outputs": [],
   "source": [
    "for filename in ic1.files_filtered(obstype='Arc', isiarm='Blue arm', object='CuNe+CuAr b tar'):\n",
    "    hdu = fits.open(ic1.location + filename)\n",
    "    ccd = CCDData(hdu[1].data, header=hdu[0].header+hdu[1].header, unit = u.adu)\n",
    "    #this has to be fixed as the bias section does not include the whole section that will be trimmed\n",
    "    ccd = ccdproc.subtract_overscan(ccd, median=True,  overscan_axis=0, fits_section='[1:966,4105:4190]')\n",
    "    ccd = ccdproc.trim_image(ccd, fits_section=ccd.header['TRIMSEC'] )\n",
    "    ccd = ccdproc.subtract_bias(ccd, master_bias_blue)\n",
    "    ccd = ccdproc.flat_correct(ccd, master_flat_blue)\n",
    "    ccd = ccdproc.cosmicray_lacosmic(ccd, sigclip=4.5, gain=ccd.header['GAIN'], readnoise=ccd.header['READNOIS'])\n",
    "\n",
    "    ccd.data = ccd.data.T\n",
    "    ccd.mask = ccd.mask.T\n",
    "    ccd.write('arc_blue_'+filename, clobber=True)\n",
    "    \n",
    "for filename in ic1.files_filtered(obstype='Arc', isiarm='Red arm', object='CuNe+CuAr r tar'):\n",
    "    hdu = fits.open(ic1.location + filename)\n",
    "    ccd = CCDData(hdu[1].data, header=hdu[0].header+hdu[1].header, unit = u.adu)\n",
    "    #this has to be fixed as the bias section does not include the whole section that will be trimmed\n",
    "    ccd = ccdproc.subtract_overscan(ccd, median=True,  overscan_axis=0, fits_section='[1:966,4105:4190]')\n",
    "    ccd = ccdproc.trim_image(ccd, fits_section=ccd.header['TRIMSEC'] )\n",
    "    ccd = ccdproc.subtract_bias(ccd, master_bias_red)\n",
    "    ccd = ccdproc.flat_correct(ccd, master_flat_red)\n",
    "    \n",
    "    ccd = ccdproc.cosmicray_lacosmic(ccd, sigclip=4.5, gain=ccd.header['GAIN'], readnoise=ccd.header['READNOIS'])\n",
    "    ccd.data = ccd.data.T\n",
    "    ccd.mask = ccd.mask.T\n",
    "    ccd.write('arc_red_'+filename, clobber=True)"
   ]
  },
  {
   "cell_type": "code",
   "execution_count": null,
   "metadata": {
    "collapsed": false
   },
   "outputs": [],
   "source": [
    "Fig, Ax = plt.subplots(2, 1, figsize=(12,8))\n",
    "\n",
    "Ax[0].plot(np.arange(4099), np.median(CCDData.read('processed_data/arc_blue_r2544941.fit').data/convolved_flat_blue.T, axis=0))\n",
    "Ax[0].set_xlim([1000,4000])\n",
    "#Ax[0].set_ylim([0, 2000])\n",
    "\n",
    "Ax[1].plot(np.arange(4096), np.median(CCDData.read('processed_data/arc_red_r2544942.fit').data/convolved_flat_red.T, axis=0))\n",
    "Ax[1].set_xlim([1000,4000])\n",
    "#Ax[1].set_ylim([0, 30000])\n",
    "Fig.tight_layout()\n",
    "\n",
    "blue_lines_pix = [1177, 1846, 1868, 1895,\n",
    "                  2140, 2173, 2368, 2610, \n",
    "                  2703, 2950, 3000, 3132, \n",
    "                  3556, 3638]\n",
    "blue_lines_w = [3273.96, 3858.58, 3868.53, 3891.98,\n",
    "                4103.91, 4131.72, 4300.1, 4510.73, \n",
    "                4589.9, 4806.02, 4847.81, 4965.08, \n",
    "                5330.78, 5400.56]\n",
    "\n",
    "red_lines_pix = [1341, 1392, 1938, 1994,\n",
    "                 2057, 2072, 2111, 2188,\n",
    "                 2498, 2672, 2814, 3143, \n",
    "                 3199, 3270, 3437, 3505]\n",
    "\n",
    "red_lines_w = [5852.49, 5944.83, 6929.47, 7032.41, \n",
    "               7147.04, 7173.94, 7245.17, 7383.98,\n",
    "               7948.17, 8264.52, 8521.44, 9122.97, \n",
    "               9224.5, 9354.22, 9657.78, 9784.5]"
   ]
  },
  {
   "cell_type": "code",
   "execution_count": null,
   "metadata": {
    "collapsed": false
   },
   "outputs": [],
   "source": [
    "Fig, Ax = plt.subplots(1, 1, figsize=(6,6))\n",
    "\n",
    "Ax.plot(red_lines_w, red_lines_pix, 'o')\n",
    "Ax.plot(blue_lines_w, blue_lines_pix, 'o')"
   ]
  }
 ],
 "metadata": {
  "kernelspec": {
   "display_name": "Python 2",
   "language": "python",
   "name": "python2"
  },
  "language_info": {
   "codemirror_mode": {
    "name": "ipython",
    "version": 2
   },
   "file_extension": ".py",
   "mimetype": "text/x-python",
   "name": "python",
   "nbconvert_exporter": "python",
   "pygments_lexer": "ipython2",
   "version": "2.7.13"
  }
 },
 "nbformat": 4,
 "nbformat_minor": 2
}
